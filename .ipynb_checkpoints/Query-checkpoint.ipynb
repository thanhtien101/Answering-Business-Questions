{
 "cells": [
  {
   "cell_type": "markdown",
   "id": "57088899",
   "metadata": {},
   "source": [
    "# Data Structure"
   ]
  },
  {
   "cell_type": "markdown",
   "id": "ef283800",
   "metadata": {},
   "source": [
    "Chinook là một cửa hàng bán băng đĩa. Cấu trúc dữ liệu của chinook:"
   ]
  },
  {
   "cell_type": "markdown",
   "id": "9fd39ff5",
   "metadata": {},
   "source": [
    "![image](https://user-images.githubusercontent.com/107552816/178102888-2724559d-f1d7-4d86-aba1-ed42c73b618a.png)"
   ]
  },
  {
   "cell_type": "markdown",
   "id": "ae5cf2f5",
   "metadata": {},
   "source": [
    "# Connect database"
   ]
  },
  {
   "cell_type": "code",
   "execution_count": 1,
   "id": "11ea7b47",
   "metadata": {},
   "outputs": [],
   "source": [
    "%%capture\n",
    "%load_ext sql\n",
    "%sql sqlite:///chinook.db"
   ]
  },
  {
   "cell_type": "markdown",
   "id": "36a2d2a5",
   "metadata": {},
   "source": [
    "# Explore Data"
   ]
  },
  {
   "cell_type": "code",
   "execution_count": 2,
   "id": "2e472bb9",
   "metadata": {},
   "outputs": [
    {
     "name": "stdout",
     "output_type": "stream",
     "text": [
      " * sqlite:///chinook.db\n",
      "Done.\n"
     ]
    },
    {
     "data": {
      "text/html": [
       "<table>\n",
       "    <tr>\n",
       "        <th>name</th>\n",
       "        <th>type</th>\n",
       "    </tr>\n",
       "    <tr>\n",
       "        <td>album</td>\n",
       "        <td>table</td>\n",
       "    </tr>\n",
       "    <tr>\n",
       "        <td>artist</td>\n",
       "        <td>table</td>\n",
       "    </tr>\n",
       "    <tr>\n",
       "        <td>customer</td>\n",
       "        <td>table</td>\n",
       "    </tr>\n",
       "    <tr>\n",
       "        <td>employee</td>\n",
       "        <td>table</td>\n",
       "    </tr>\n",
       "    <tr>\n",
       "        <td>genre</td>\n",
       "        <td>table</td>\n",
       "    </tr>\n",
       "    <tr>\n",
       "        <td>invoice</td>\n",
       "        <td>table</td>\n",
       "    </tr>\n",
       "    <tr>\n",
       "        <td>invoice_line</td>\n",
       "        <td>table</td>\n",
       "    </tr>\n",
       "    <tr>\n",
       "        <td>media_type</td>\n",
       "        <td>table</td>\n",
       "    </tr>\n",
       "    <tr>\n",
       "        <td>playlist</td>\n",
       "        <td>table</td>\n",
       "    </tr>\n",
       "    <tr>\n",
       "        <td>playlist_track</td>\n",
       "        <td>table</td>\n",
       "    </tr>\n",
       "    <tr>\n",
       "        <td>track</td>\n",
       "        <td>table</td>\n",
       "    </tr>\n",
       "    <tr>\n",
       "        <td>customer_gt_90_dollars</td>\n",
       "        <td>view</td>\n",
       "    </tr>\n",
       "    <tr>\n",
       "        <td>customer_USA_90</td>\n",
       "        <td>view</td>\n",
       "    </tr>\n",
       "</table>"
      ],
      "text/plain": [
       "[('album', 'table'),\n",
       " ('artist', 'table'),\n",
       " ('customer', 'table'),\n",
       " ('employee', 'table'),\n",
       " ('genre', 'table'),\n",
       " ('invoice', 'table'),\n",
       " ('invoice_line', 'table'),\n",
       " ('media_type', 'table'),\n",
       " ('playlist', 'table'),\n",
       " ('playlist_track', 'table'),\n",
       " ('track', 'table'),\n",
       " ('customer_gt_90_dollars', 'view'),\n",
       " ('customer_USA_90', 'view')]"
      ]
     },
     "execution_count": 2,
     "metadata": {},
     "output_type": "execute_result"
    }
   ],
   "source": [
    "%%sql\n",
    "SELECT\n",
    "    name,\n",
    "    type\n",
    "FROM sqlite_master\n",
    "WHERE type IN (\"table\",\"view\");"
   ]
  },
  {
   "cell_type": "markdown",
   "id": "ee08a135",
   "metadata": {},
   "source": [
    "# Select New Album to Purchase"
   ]
  },
  {
   "cell_type": "markdown",
   "id": "23d49b5c",
   "metadata": {},
   "source": [
    "Giả sử, một hãng thu âm chuyên về các nghệ sĩ ở Hoa Kì, họ cần mua 3 thể loại nhạc và muốn hợp tác lâu dài với tôi. Đồng thời họ đưa tôi 1 số tiền để chạy quảng cáo 3 sản phẩm này. Vì vậy, tôi phải tìm hiểu thể loại nhạc nào bán chạy nhất."
   ]
  },
  {
   "cell_type": "code",
   "execution_count": 3,
   "id": "33a6c9f8",
   "metadata": {},
   "outputs": [
    {
     "name": "stdout",
     "output_type": "stream",
     "text": [
      " * sqlite:///chinook.db\n",
      "Done.\n"
     ]
    },
    {
     "data": {
      "text/html": [
       "<table>\n",
       "    <tr>\n",
       "        <th>genre</th>\n",
       "        <th>amounts_sold</th>\n",
       "        <th>percentage_sold</th>\n",
       "    </tr>\n",
       "    <tr>\n",
       "        <td>Rock</td>\n",
       "        <td>561</td>\n",
       "        <td>0.5337773549000951</td>\n",
       "    </tr>\n",
       "    <tr>\n",
       "        <td>Alternative &amp; Punk</td>\n",
       "        <td>130</td>\n",
       "        <td>0.12369172216936251</td>\n",
       "    </tr>\n",
       "    <tr>\n",
       "        <td>Metal</td>\n",
       "        <td>124</td>\n",
       "        <td>0.11798287345385347</td>\n",
       "    </tr>\n",
       "    <tr>\n",
       "        <td>R&amp;B/Soul</td>\n",
       "        <td>53</td>\n",
       "        <td>0.05042816365366318</td>\n",
       "    </tr>\n",
       "    <tr>\n",
       "        <td>Blues</td>\n",
       "        <td>36</td>\n",
       "        <td>0.03425309229305423</td>\n",
       "    </tr>\n",
       "    <tr>\n",
       "        <td>Alternative</td>\n",
       "        <td>35</td>\n",
       "        <td>0.03330161750713606</td>\n",
       "    </tr>\n",
       "    <tr>\n",
       "        <td>Pop</td>\n",
       "        <td>22</td>\n",
       "        <td>0.02093244529019981</td>\n",
       "    </tr>\n",
       "    <tr>\n",
       "        <td>Latin</td>\n",
       "        <td>22</td>\n",
       "        <td>0.02093244529019981</td>\n",
       "    </tr>\n",
       "    <tr>\n",
       "        <td>Hip Hop/Rap</td>\n",
       "        <td>20</td>\n",
       "        <td>0.019029495718363463</td>\n",
       "    </tr>\n",
       "    <tr>\n",
       "        <td>Jazz</td>\n",
       "        <td>14</td>\n",
       "        <td>0.013320647002854425</td>\n",
       "    </tr>\n",
       "</table>"
      ],
      "text/plain": [
       "[('Rock', 561, 0.5337773549000951),\n",
       " ('Alternative & Punk', 130, 0.12369172216936251),\n",
       " ('Metal', 124, 0.11798287345385347),\n",
       " ('R&B/Soul', 53, 0.05042816365366318),\n",
       " ('Blues', 36, 0.03425309229305423),\n",
       " ('Alternative', 35, 0.03330161750713606),\n",
       " ('Pop', 22, 0.02093244529019981),\n",
       " ('Latin', 22, 0.02093244529019981),\n",
       " ('Hip Hop/Rap', 20, 0.019029495718363463),\n",
       " ('Jazz', 14, 0.013320647002854425)]"
      ]
     },
     "execution_count": 3,
     "metadata": {},
     "output_type": "execute_result"
    }
   ],
   "source": [
    "%%sql\n",
    "WITH usa_track_sold AS\n",
    "    (\n",
    "    SELECT il.*\n",
    "    FROM invoice_line il\n",
    "    INNER JOIN invoice i ON il.invoice_id = i.invoice_id\n",
    "    INNER JOIN customer c ON c.customer_id = i.customer_id\n",
    "    WHERE c.country = \"USA\"\n",
    "    )\n",
    "SELECT  g.name genre,\n",
    "        COUNT(uts.invoice_line_id) AS amounts_sold,\n",
    "        CAST(COUNT(uts.invoice_line_id) AS FLOAT)/( SELECT COUNT(*) FROM usa_track_sold) AS percentage_sold\n",
    "FROM usa_track_sold uts\n",
    "INNER JOIN track t ON t.track_id = uts.track_id\n",
    "INNER JOIN genre g ON t.genre_id = g.genre_id\n",
    "GROUP BY 1\n",
    "ORDER BY 2 DESC\n",
    "LIMIT 10"
   ]
  },
  {
   "cell_type": "markdown",
   "id": "7f6e5135",
   "metadata": {},
   "source": [
    "Dựa theo bảng trên, chúng ta có thể chọn được 3 thể loại:\n",
    "* Rock chiếm 53.3 %\n",
    "* Alternative & Punk chiếm 12.4%\n",
    "* Metal chiếm 11.7%"
   ]
  },
  {
   "cell_type": "markdown",
   "id": "78a9b98e",
   "metadata": {},
   "source": [
    "# Analyzing Employee Sales Performance"
   ]
  },
  {
   "cell_type": "markdown",
   "id": "11687bb7",
   "metadata": {},
   "source": [
    "Mỗi khách hàng của cửa hàng Chinook được chỉ định cho 1 nhân viên bán hàng hỗ trợ trong công ty khi họ mua hàng lần đầu tiên. Tôi muốn biết các giao dịch mua hàng của khách thuộc từng nhân viên để xem nhân viên hỗ trợ nào có hiệu suất tốt và kém hơn những người khác hay không."
   ]
  },
  {
   "cell_type": "code",
   "execution_count": 4,
   "id": "af8a5e46",
   "metadata": {},
   "outputs": [
    {
     "name": "stdout",
     "output_type": "stream",
     "text": [
      " * sqlite:///chinook.db\n",
      "Done.\n"
     ]
    },
    {
     "data": {
      "text/html": [
       "<table>\n",
       "    <tr>\n",
       "        <th>Employee</th>\n",
       "        <th>hire_date</th>\n",
       "        <th>total_sales</th>\n",
       "    </tr>\n",
       "    <tr>\n",
       "        <td>Jane Peacock</td>\n",
       "        <td>2017-04-01 00:00:00</td>\n",
       "        <td>1731.5099999999998</td>\n",
       "    </tr>\n",
       "    <tr>\n",
       "        <td>Margaret Park</td>\n",
       "        <td>2017-05-03 00:00:00</td>\n",
       "        <td>1584.0000000000002</td>\n",
       "    </tr>\n",
       "    <tr>\n",
       "        <td>Steve Johnson</td>\n",
       "        <td>2017-10-17 00:00:00</td>\n",
       "        <td>1393.92</td>\n",
       "    </tr>\n",
       "</table>"
      ],
      "text/plain": [
       "[('Jane Peacock', '2017-04-01 00:00:00', 1731.5099999999998),\n",
       " ('Margaret Park', '2017-05-03 00:00:00', 1584.0000000000002),\n",
       " ('Steve Johnson', '2017-10-17 00:00:00', 1393.92)]"
      ]
     },
     "execution_count": 4,
     "metadata": {},
     "output_type": "execute_result"
    }
   ],
   "source": [
    "%%sql\n",
    "\n",
    "WITH customer_support_rep_sales AS\n",
    "    (\n",
    "    SELECT  e.employee_id,\n",
    "            c.customer_id,\n",
    "            SUM(i.total) total\n",
    "    FROM invoice i\n",
    "    INNER JOIN customer c ON c.customer_id=i.customer_id\n",
    "    INNER JOIN employee e ON e.employee_id=c.support_rep_id\n",
    "    GROUP BY 1,2\n",
    "    )\n",
    "SELECT  e.first_name || \" \" || e.last_name Employee,\n",
    "        e.hire_date,\n",
    "        SUM(csrs.total) total_sales\n",
    "FROM customer_support_rep_sales csrs\n",
    "INNER JOIN employee e ON e.employee_id == csrs.employee_id\n",
    "GROUP BY 1"
   ]
  },
  {
   "cell_type": "markdown",
   "id": "7f465d80",
   "metadata": {},
   "source": [
    "Mặc dù có sự khác biệt về doanh số giữa Jane và Steve, tuy nhiên nó có liên quan đến ngày tuyển dụng, nhân viên nào làm lâu hơn thì sẽ có doanh số cao hơn."
   ]
  },
  {
   "cell_type": "markdown",
   "id": "0d129422",
   "metadata": {},
   "source": [
    "# Analyzing Sales For Country"
   ]
  },
  {
   "cell_type": "markdown",
   "id": "fef044fd",
   "metadata": {},
   "source": [
    "Truy vấn doanh số bán hàng theo từng quốc gia khác nhau:\n",
    "* Với mỗi quốc gia chỉ có 1 khách hàng thì sẽ gộp chung một nhóm \"Other\"\n",
    "* Kết quả được sắp xếp theo tổng doanh số từ cao nhất đến thấp nhất, với nhóm \"Other\" ở dưới cùng\n",
    "* Đối với mỗi quốc gia bao gồm:\n",
    "    * Tổng số khách hàng\n",
    "    * Tổng số tiền bán hàng\n",
    "    * Số tiền bán hàng trung bình cho mỗi khách hàng\n",
    "    * Số tiền bán hàng trung bình trên mỗi hóa đơn."
   ]
  },
  {
   "cell_type": "code",
   "execution_count": 5,
   "id": "dfd8a32c",
   "metadata": {},
   "outputs": [
    {
     "name": "stdout",
     "output_type": "stream",
     "text": [
      " * sqlite:///chinook.db\n",
      "Done.\n"
     ]
    },
    {
     "data": {
      "text/html": [
       "<table>\n",
       "    <tr>\n",
       "        <th>country</th>\n",
       "        <th>total_customer</th>\n",
       "        <th>average_sales_customer</th>\n",
       "        <th>average_order</th>\n",
       "    </tr>\n",
       "    <tr>\n",
       "        <td>USA</td>\n",
       "        <td>13</td>\n",
       "        <td>80.03769230769292</td>\n",
       "        <td>7.942671755725252</td>\n",
       "    </tr>\n",
       "    <tr>\n",
       "        <td>Canada</td>\n",
       "        <td>8</td>\n",
       "        <td>66.94875000000043</td>\n",
       "        <td>7.047236842105309</td>\n",
       "    </tr>\n",
       "    <tr>\n",
       "        <td>Brazil</td>\n",
       "        <td>5</td>\n",
       "        <td>85.53600000000048</td>\n",
       "        <td>7.011147540983647</td>\n",
       "    </tr>\n",
       "    <tr>\n",
       "        <td>France</td>\n",
       "        <td>5</td>\n",
       "        <td>77.81400000000042</td>\n",
       "        <td>7.781400000000042</td>\n",
       "    </tr>\n",
       "    <tr>\n",
       "        <td>Germany</td>\n",
       "        <td>4</td>\n",
       "        <td>83.6550000000004</td>\n",
       "        <td>8.161463414634186</td>\n",
       "    </tr>\n",
       "    <tr>\n",
       "        <td>Czech Republic</td>\n",
       "        <td>2</td>\n",
       "        <td>136.62000000000052</td>\n",
       "        <td>9.108000000000034</td>\n",
       "    </tr>\n",
       "    <tr>\n",
       "        <td>United Kingdom</td>\n",
       "        <td>3</td>\n",
       "        <td>81.84000000000026</td>\n",
       "        <td>8.768571428571457</td>\n",
       "    </tr>\n",
       "    <tr>\n",
       "        <td>Portugal</td>\n",
       "        <td>2</td>\n",
       "        <td>92.56500000000011</td>\n",
       "        <td>6.3837931034482835</td>\n",
       "    </tr>\n",
       "    <tr>\n",
       "        <td>India</td>\n",
       "        <td>2</td>\n",
       "        <td>91.5750000000001</td>\n",
       "        <td>8.72142857142858</td>\n",
       "    </tr>\n",
       "    <tr>\n",
       "        <td>Other</td>\n",
       "        <td>15</td>\n",
       "        <td>72.99600000000056</td>\n",
       "        <td>7.448571428571486</td>\n",
       "    </tr>\n",
       "</table>"
      ],
      "text/plain": [
       "[('USA', 13, 80.03769230769292, 7.942671755725252),\n",
       " ('Canada', 8, 66.94875000000043, 7.047236842105309),\n",
       " ('Brazil', 5, 85.53600000000048, 7.011147540983647),\n",
       " ('France', 5, 77.81400000000042, 7.781400000000042),\n",
       " ('Germany', 4, 83.6550000000004, 8.161463414634186),\n",
       " ('Czech Republic', 2, 136.62000000000052, 9.108000000000034),\n",
       " ('United Kingdom', 3, 81.84000000000026, 8.768571428571457),\n",
       " ('Portugal', 2, 92.56500000000011, 6.3837931034482835),\n",
       " ('India', 2, 91.5750000000001, 8.72142857142858),\n",
       " ('Other', 15, 72.99600000000056, 7.448571428571486)]"
      ]
     },
     "execution_count": 5,
     "metadata": {},
     "output_type": "execute_result"
    }
   ],
   "source": [
    "%%sql\n",
    "WITH country_or_other AS\n",
    "    (\n",
    "    SELECT\n",
    "        CASE\n",
    "        WHEN (SELECT COUNT(*)\n",
    "              FROM customer\n",
    "              WHERE country = c.country\n",
    "             ) = 1 THEN \"Other\" ELSE c.country\n",
    "        END AS country,\n",
    "        c.customer_id,\n",
    "        il.*\n",
    "    FROM invoice_line il\n",
    "    INNER JOIN invoice i ON i.invoice_id = il.invoice_id\n",
    "    INNER JOIN customer c ON c.customer_id = i.customer_id\n",
    "    )\n",
    "\n",
    "SELECT  country,\n",
    "        total_customer,\n",
    "        average_sales_customer,\n",
    "        average_order\n",
    "FROM (\n",
    "SELECT  country,\n",
    "        COUNT(DISTINCT customer_id) total_customer,\n",
    "        SUM(unit_price) total_sales,\n",
    "        SUM(unit_price) / COUNT(DISTINCT customer_id) average_sales_customer,\n",
    "        SUM(unit_price) / COUNT(DISTINCT invoice_id) average_order,\n",
    "        CASE\n",
    "        WHEN country = \"Other\" THEN 1 ELSE 0\n",
    "        END AS sort        \n",
    "FROM country_or_other\n",
    "GROUP BY 1\n",
    "ORDER BY sort ASC, total_sales DESC\n",
    ")"
   ]
  },
  {
   "cell_type": "markdown",
   "id": "f147d540",
   "metadata": {},
   "source": [
    "Dựa vào bảng dữ liệu trên, có thể thấy số liệu ở các quốc gia:\n",
    "* Czech Republic\n",
    "* United Kingdom\n",
    "* India\n",
    "\n",
    "Vì lượng dữ liệu ở các quốc gia này tương đối thấp, nên không đánh giá được tổng quan thị trường ở các quốc gia này. Vì thế, chúng ta nên thận trọng chi quá nhiều tiền cho chiến dịch quảng cáo. Một cách tiếp cận hiệu quả là chạy quảng cáo nhỏ ở những khu vực này để tiếp cận thêm khách hàng mới và phân tích xu hướng mua hàng của họ có phù hợp mà chiến dịch quảng cáo hướng đến hay không."
   ]
  }
 ],
 "metadata": {
  "kernelspec": {
   "display_name": "Python 3",
   "language": "python",
   "name": "python3"
  },
  "language_info": {
   "codemirror_mode": {
    "name": "ipython",
    "version": 3
   },
   "file_extension": ".py",
   "mimetype": "text/x-python",
   "name": "python",
   "nbconvert_exporter": "python",
   "pygments_lexer": "ipython3",
   "version": "3.8.8"
  }
 },
 "nbformat": 4,
 "nbformat_minor": 5
}
